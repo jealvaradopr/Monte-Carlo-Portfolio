{
 "cells": [
  {
   "cell_type": "markdown",
   "metadata": {},
   "source": [
    "<b>This project focuses on a successful allocation of a portfolio between US fixed income and equity securities. There is a constraint of probability of negative returns not exceeding 20%. There are 21 possible allocations between the two types of securities. Random and Statistics modules are used. All of this will be simulated 1000000 times and the successful allocation will be shown along with its probability of negative returns. "
   ]
  },
  {
   "cell_type": "markdown",
   "metadata": {},
   "source": [
    "Consider the following average annual returns and standard deviations of annual returns for two types of investments, calculated by <i>Ibbotson Associates</i> using data from 1926-2013.\n",
    "\n",
    "<table border=\"0\">\n",
    "   <tr>\n",
    "    <th>Investment</th>\n",
    "    <th>Average Return</th>\n",
    "    <th>Std Dev of Return</th>\n",
    "   </tr>\n",
    "   <tr>\n",
    "    <td>Short-term US government bonds</td>\n",
    "    <td>3.5%</td>\n",
    "    <td>3.1%</td>\n",
    "   </tr>\n",
    "   <tr>\n",
    "    <td>Small-cap US stocks</td>\n",
    "    <td>12.5%</td>\n",
    "    <td>32.3%</td>\n",
    "   </tr>\n",
    "  </table>\n",
    "  \n",
    "Your client has to decide what fraction of her $10 million portfolio to invest in short-term US government bonds and what fraction to invest in small-cap US stocks. Assume that there are 21 possible allocations: (1.00, 0.00), (0.95, 0.05), ..., (0.05, 0.95), (0.00, 1.00), where, for example, (0.95, 0.05) corresponds to 95\\% invested in short-term US government bonds and 5\\% invested in small-cap US stocks. <b>Your client has requested the largest possible allocation to small-cap US stocks, subject to the constraint that she wants the probability of earning a negative net return over the next year to be no more than 20 percent</b>. Please simulate the probability of earning a negative return for each of the 21 possible allocations and have Python determine and print the appropriate asset allocation."
   ]
  },
  {
   "cell_type": "code",
   "execution_count": 2,
   "metadata": {},
   "outputs": [],
   "source": [
    "import random\n",
    "import statistics"
   ]
  },
  {
   "cell_type": "code",
   "execution_count": 3,
   "metadata": {},
   "outputs": [],
   "source": [
    "def pr_loss(allocation, amount):\n",
    "    bonds_all = []          #lists of bonds and stock allocations\n",
    "    stocks_all = []\n",
    "    for i in range(len(allocation)): #for loop that distributes the allocation percentages of bonds and stocks\n",
    "        tup1 = allocation[i] \n",
    "        bonds_all.append(tup1[0])\n",
    "        stocks_all.append(tup1[1])\n",
    "    for i in range(len(bonds_all)): #for loop that produces the portfolio amount with its corresponding allocation\n",
    "        bonds_all[i] = amount * bonds_all[i]\n",
    "        stocks_all[i] = amount * stocks_all[i]\n",
    "    \n",
    "    l_pr = [] #list of proability losses \n",
    "    for i in range(len(bonds_all)): #for loop that iterates through the allocations (the list of bonds allocation is simply used arbitrarily)\n",
    "        value = [] \n",
    "        loss = [] \n",
    "        bonds = bonds_all[i]\n",
    "        stocks = stocks_all[i] \n",
    "        for game in range(1000000): #1 million simulations \n",
    "            value_bonds = float(bonds) * (1 + random.normalvariate(0.035,0.031)) #normal distribution to simulate results for bonds and stocks\n",
    "            value_stocks = float(stocks) * (1 + random.normalvariate(0.125,0.323))\n",
    "            if value_bonds < 0: #if the value of the bond/stock is in negative terrirory, then it is set to zero\n",
    "                value_bonds = 0\n",
    "            if value_stocks < 0:\n",
    "                value_stocks = 0 \n",
    "            value.append(value_bonds + value_stocks) #losses list is appended with results\n",
    "            loss.append((value_bonds + value_stocks < amount)*1) \n",
    "        l_pr.append(statistics.mean(loss)) #the average of the losses \n",
    "    l = []\n",
    "    for i in range(len(bonds_all)): #for loop that creates a tuple with the allocations and its probability of loss\n",
    "        tup = (allocation[i][0], allocation[i][1], l_pr[i]) \n",
    "        l.append(tup)\n",
    "    return l "
   ]
  },
  {
   "cell_type": "code",
   "execution_count": 4,
   "metadata": {},
   "outputs": [
    {
     "name": "stdout",
     "output_type": "stream",
     "text": [
      "(0.85, 0.15, 0.189883)\n"
     ]
    }
   ],
   "source": [
    "alloc = [(1.00, 0.00), (0.95, 0.05), (0.90, 0.10), (0.85, 0.15), (0.80, 0.20), (0.75, 0.25), (0.70, 0.30), (0.65, 0.35), (0.60, 0.40), (0.55, 0.45), (0.50, 0.50), (0.45, 0.55), (0.40, 0.60), (0.35, 0.65), (0.30, 0.70), (0.25, 0.75), (0.20, 0.80), (0.15, 0.85), (0.10, 0.90), (0.05, 0.95), (0.00, 1.00)]\n",
    "losses = pr_loss(alloc, 10000000)\n",
    "record = losses[0] #results of the simulations\n",
    "for i in range(1, len(losses)): \n",
    "    if losses[i][2] < 0.2 and losses[i][1] > record[1]: #iteration of constraint of less than 20% probability of losses\n",
    "        record = losses[i] \n",
    "print(record) #resulting allocation (bonds, stock, probability) "
   ]
  },
  {
   "cell_type": "code",
   "execution_count": 5,
   "metadata": {},
   "outputs": [
    {
     "name": "stdout",
     "output_type": "stream",
     "text": [
      "The resulting allocation is 0.85 for bonds and 0.15 for stocks. The resulting probability is 0.189883\n"
     ]
    }
   ],
   "source": [
    "print('The resulting allocation is {} for bonds and {} for stocks. The resulting probability is {}'.format(record[0],record[1],record[2]))"
   ]
  },
  {
   "cell_type": "code",
   "execution_count": null,
   "metadata": {},
   "outputs": [],
   "source": []
  }
 ],
 "metadata": {
  "kernelspec": {
   "display_name": "Python 3",
   "language": "python",
   "name": "python3"
  },
  "language_info": {
   "codemirror_mode": {
    "name": "ipython",
    "version": 3
   },
   "file_extension": ".py",
   "mimetype": "text/x-python",
   "name": "python",
   "nbconvert_exporter": "python",
   "pygments_lexer": "ipython3",
   "version": "3.8.3"
  }
 },
 "nbformat": 4,
 "nbformat_minor": 4
}
